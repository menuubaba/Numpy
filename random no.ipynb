{
 "cells": [
  {
   "cell_type": "raw",
   "id": "0f45a79f-e96d-4a26-be49-f3081f997b04",
   "metadata": {},
   "source": [
    "                # NUMPY ARRAY WITH RANDOM ARRAY "
   ]
  },
  {
   "cell_type": "code",
   "execution_count": 1,
   "id": "9e523c18-d831-4474-9467-8d0f5163b3cc",
   "metadata": {},
   "outputs": [
    {
     "name": "stdout",
     "output_type": "stream",
     "text": [
      "[0.22615792 0.5056342  0.16508607 0.87415476]\n"
     ]
    }
   ],
   "source": [
    "# Rand() to generate a random no between 0 & 1 eg.\n",
    "import numpy as np\n",
    "a=np.random.rand(4)\n",
    "print(a)"
   ]
  },
  {
   "cell_type": "code",
   "execution_count": 3,
   "id": "868e20e7-a1c2-4c30-a80f-57e66f814c25",
   "metadata": {},
   "outputs": [
    {
     "name": "stdout",
     "output_type": "stream",
     "text": [
      "[[0.56435631 0.21455994 0.13722802]\n",
      " [0.85533153 0.46623039 0.94609678]]\n"
     ]
    }
   ],
   "source": [
    "# for 2D array \n",
    "b=np.random.rand(2,3)\n",
    "print(b)"
   ]
  },
  {
   "cell_type": "code",
   "execution_count": 6,
   "id": "eac5ae62-3820-465d-a857-d6701e170f48",
   "metadata": {},
   "outputs": [
    {
     "name": "stdout",
     "output_type": "stream",
     "text": [
      "[ 0.98608528 -1.11673887  1.6641005 ]\n"
     ]
    }
   ],
   "source": [
    " # RANDN()  to generate a random no. which is close to 0 & it can be +ve 7 -ve\n",
    "c= np.random.randn(3)\n",
    "print(c)"
   ]
  },
  {
   "cell_type": "code",
   "execution_count": 7,
   "id": "afcbe98e-55b3-4dfb-8c6f-77bc0fdbb783",
   "metadata": {},
   "outputs": [
    {
     "name": "stdout",
     "output_type": "stream",
     "text": [
      "[0.74999077 0.51207672]\n"
     ]
    }
   ],
   "source": [
    "# Ranf()\n",
    "d=np.random.ranf(2)\n",
    "print(d)"
   ]
  },
  {
   "cell_type": "code",
   "execution_count": 11,
   "id": "d3fb8628-2a24-4aaa-8fd3-1a4334e1d0de",
   "metadata": {},
   "outputs": [
    {
     "name": "stdout",
     "output_type": "stream",
     "text": [
      "[ 5 12  9  6 10]\n"
     ]
    }
   ],
   "source": [
    "# randit    to generate a random number between 2 number\n",
    "e=np.random.randint(2,20,5)\n",
    "print(e)"
   ]
  },
  {
   "cell_type": "code",
   "execution_count": null,
   "id": "0fbd9dd6-9869-42a7-a77c-75f92085afdc",
   "metadata": {},
   "outputs": [],
   "source": []
  }
 ],
 "metadata": {
  "kernelspec": {
   "display_name": "Python 3 (ipykernel)",
   "language": "python",
   "name": "python3"
  },
  "language_info": {
   "codemirror_mode": {
    "name": "ipython",
    "version": 3
   },
   "file_extension": ".py",
   "mimetype": "text/x-python",
   "name": "python",
   "nbconvert_exporter": "python",
   "pygments_lexer": "ipython3",
   "version": "3.12.4"
  }
 },
 "nbformat": 4,
 "nbformat_minor": 5
}
