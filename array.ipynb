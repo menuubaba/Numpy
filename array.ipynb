{
 "cells": [
  {
   "cell_type": "markdown",
   "id": "c99ddf12-bf57-4960-8f40-c38b4ba0f40f",
   "metadata": {},
   "source": [
    "                               #Array"
   ]
  },
  {
   "cell_type": "raw",
   "id": "77849c10-1218-4ec2-b295-466ae63e170f",
   "metadata": {},
   "source": [
    "import numpy as np "
   ]
  },
  {
   "cell_type": "code",
   "execution_count": 8,
   "id": "d90bbcbe-f22b-4685-94e2-ed9772ecd330",
   "metadata": {},
   "outputs": [
    {
     "name": "stdout",
     "output_type": "stream",
     "text": [
      "[1 2 3 4 5]\n",
      "<class 'numpy.ndarray'>\n"
     ]
    }
   ],
   "source": [
    "import numpy as np \n",
    "l=[1,2,3,4,5]\n",
    "y= np.array(l)\n",
    "print(y)\n",
    "print(type(y))"
   ]
  },
  {
   "cell_type": "code",
   "execution_count": 21,
   "id": "666797f1-99ca-485a-ab34-95e13f48e964",
   "metadata": {},
   "outputs": [
    {
     "name": "stdin",
     "output_type": "stream",
     "text": [
      "Enter: 20\n",
      "Enter: 30\n",
      "Enter: 40\n",
      "Enter: 50\n"
     ]
    },
    {
     "name": "stdout",
     "output_type": "stream",
     "text": [
      "[20 30 40 50]\n"
     ]
    }
   ],
   "source": [
    "l=[]\n",
    "for i in range(1,5):\n",
    "    int_1 =int(input(\"Enter:\"))\n",
    "    l.append(int_1)\n",
    "print(np.array(l))"
   ]
  },
  {
   "cell_type": "code",
   "execution_count": 24,
   "id": "2dca60ec-679a-46fe-a1f9-fd4085e101b5",
   "metadata": {},
   "outputs": [
    {
     "name": "stdout",
     "output_type": "stream",
     "text": [
      "2\n"
     ]
    }
   ],
   "source": [
    "# 2d array\n",
    "l=[[1234],[2345]]\n",
    "a=np.array(l)\n",
    "print(a.ndim)\n"
   ]
  },
  {
   "cell_type": "code",
   "execution_count": 30,
   "id": "81c582a1-4781-48a7-bbca-5ba75648feb4",
   "metadata": {},
   "outputs": [
    {
     "ename": "ValueError",
     "evalue": "setting an array element with a sequence. The requested array has an inhomogeneous shape after 1 dimensions. The detected shape was (2,) + inhomogeneous part.",
     "output_type": "error",
     "traceback": [
      "\u001b[1;31m---------------------------------------------------------------------------\u001b[0m",
      "\u001b[1;31mValueError\u001b[0m                                Traceback (most recent call last)",
      "Cell \u001b[1;32mIn[30], line 2\u001b[0m\n\u001b[0;32m      1\u001b[0m a\u001b[38;5;241m=\u001b[39m[[\u001b[38;5;241m1\u001b[39m,\u001b[38;5;241m2\u001b[39m,\u001b[38;5;241m3\u001b[39m,\u001b[38;5;241m1\u001b[39m],[\u001b[38;5;241m1\u001b[39m,\u001b[38;5;241m2\u001b[39m,\u001b[38;5;241m3\u001b[39m,\u001b[38;5;241m1\u001b[39m,\u001b[38;5;241m1\u001b[39m]]\n\u001b[1;32m----> 2\u001b[0m z\u001b[38;5;241m=\u001b[39mnp\u001b[38;5;241m.\u001b[39marray(a)\n\u001b[0;32m      3\u001b[0m \u001b[38;5;28mprint\u001b[39m(z\u001b[38;5;241m.\u001b[39mndim)\n",
      "\u001b[1;31mValueError\u001b[0m: setting an array element with a sequence. The requested array has an inhomogeneous shape after 1 dimensions. The detected shape was (2,) + inhomogeneous part."
     ]
    }
   ],
   "source": [
    "a=[[1,2,3,1],[1,2,3,1,1]]\n",
    "z=np.array(a)\n",
    "print(z.ndim)\n",
    "# here we can see that when we are using the list it shows error while we are using list under list (& there element are not same )"
   ]
  },
  {
   "cell_type": "code",
   "execution_count": 31,
   "id": "b61099d3-2098-4581-9e1b-0c1e68bb917b",
   "metadata": {},
   "outputs": [
    {
     "name": "stdout",
     "output_type": "stream",
     "text": [
      "2\n"
     ]
    }
   ],
   "source": [
    "a=[[1231],[12311]]\n",
    "z=np.array(a)\n",
    "print(z.ndim)\n",
    "# here it doesn't show error because it is in array form "
   ]
  },
  {
   "cell_type": "code",
   "execution_count": 38,
   "id": "615be534-6c2d-4c29-b5ba-929cfa31cac5",
   "metadata": {},
   "outputs": [
    {
     "name": "stdout",
     "output_type": "stream",
     "text": [
      "[[1234]\n",
      " [ 123]]\n",
      "2\n"
     ]
    }
   ],
   "source": [
    "ar2=np.array([[1234],[123]])\n",
    "print(ar2)\n",
    "print(ar2.ndim)"
   ]
  },
  {
   "cell_type": "code",
   "execution_count": 40,
   "id": "83f95f06-41f7-4ba6-9781-9fcca5d962f8",
   "metadata": {},
   "outputs": [
    {
     "name": "stdout",
     "output_type": "stream",
     "text": [
      "[[[  1234]\n",
      "  [   123]\n",
      "  [123414]]]\n",
      "3\n"
     ]
    }
   ],
   "source": [
    "ar3=np.array([[[1234],[123],[123414]]])\n",
    "print(ar3)\n",
    "print(ar3.ndim)"
   ]
  },
  {
   "cell_type": "code",
   "execution_count": null,
   "id": "08eb04f2-cb6b-4207-8b46-f83ec24d8bc1",
   "metadata": {},
   "outputs": [],
   "source": []
  }
 ],
 "metadata": {
  "kernelspec": {
   "display_name": "Python 3 (ipykernel)",
   "language": "python",
   "name": "python3"
  },
  "language_info": {
   "codemirror_mode": {
    "name": "ipython",
    "version": 3
   },
   "file_extension": ".py",
   "mimetype": "text/x-python",
   "name": "python",
   "nbconvert_exporter": "python",
   "pygments_lexer": "ipython3",
   "version": "3.12.4"
  }
 },
 "nbformat": 4,
 "nbformat_minor": 5
}
