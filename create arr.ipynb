{
 "cells": [
  {
   "cell_type": "code",
   "execution_count": 1,
   "id": "dce4ed7b-7032-446a-8830-739ed4bceda6",
   "metadata": {},
   "outputs": [],
   "source": [
    "# creation of array "
   ]
  },
  {
   "cell_type": "code",
   "execution_count": 2,
   "id": "812fc90f-be92-4b4f-b74c-51c1d5b778ec",
   "metadata": {},
   "outputs": [],
   "source": [
    "import numpy as np"
   ]
  },
  {
   "cell_type": "code",
   "execution_count": 4,
   "id": "d1f626c3-b34b-46af-b3a4-b185bb924848",
   "metadata": {},
   "outputs": [
    {
     "name": "stdout",
     "output_type": "stream",
     "text": [
      "[0. 0. 0. 0.]\n"
     ]
    }
   ],
   "source": [
    "# array filled with zeros \n",
    "arr_zer= np.zeros(4)\n",
    "print(arr_zer)"
   ]
  },
  {
   "cell_type": "code",
   "execution_count": 9,
   "id": "6e7227c1-fe56-49af-bfe2-8a32cb05ec32",
   "metadata": {},
   "outputs": [
    {
     "name": "stdout",
     "output_type": "stream",
     "text": [
      "[[[0. 0. 0. 0.]\n",
      "  [0. 0. 0. 0.]\n",
      "  [0. 0. 0. 0.]\n",
      "  [0. 0. 0. 0.]\n",
      "  [0. 0. 0. 0.]]\n",
      "\n",
      " [[0. 0. 0. 0.]\n",
      "  [0. 0. 0. 0.]\n",
      "  [0. 0. 0. 0.]\n",
      "  [0. 0. 0. 0.]\n",
      "  [0. 0. 0. 0.]]\n",
      "\n",
      " [[0. 0. 0. 0.]\n",
      "  [0. 0. 0. 0.]\n",
      "  [0. 0. 0. 0.]\n",
      "  [0. 0. 0. 0.]\n",
      "  [0. 0. 0. 0.]]\n",
      "\n",
      " [[0. 0. 0. 0.]\n",
      "  [0. 0. 0. 0.]\n",
      "  [0. 0. 0. 0.]\n",
      "  [0. 0. 0. 0.]\n",
      "  [0. 0. 0. 0.]]]\n"
     ]
    }
   ],
   "source": [
    "# for 2 d array zeros\n",
    "arr_zer1 = np.zeros(((4,5,4)))\n",
    "print(arr_zer1)"
   ]
  },
  {
   "cell_type": "code",
   "execution_count": 10,
   "id": "c24637d0-e9f5-469a-9a03-a01419b82655",
   "metadata": {},
   "outputs": [
    {
     "name": "stdout",
     "output_type": "stream",
     "text": [
      "[1. 1.]\n"
     ]
    }
   ],
   "source": [
    "# for ones it's same instead of zeros use ones \n",
    "arr_one=np.ones(2)\n",
    "print(arr_one)"
   ]
  },
  {
   "cell_type": "code",
   "execution_count": 12,
   "id": "ef223318-e523-4b4d-a2c3-dae204e8a0c4",
   "metadata": {},
   "outputs": [
    {
     "name": "stdout",
     "output_type": "stream",
     "text": [
      "[1. 1.]\n"
     ]
    }
   ],
   "source": [
    "# for empty array \n",
    "arr_em=np.empty(2)\n",
    "print(arr_em)"
   ]
  },
  {
   "cell_type": "code",
   "execution_count": 13,
   "id": "9d293ab8-bd9b-47db-b36b-4d9b63ac74c0",
   "metadata": {},
   "outputs": [
    {
     "name": "stdout",
     "output_type": "stream",
     "text": [
      "[0 1 2 3 4 5 6 7 8 9]\n"
     ]
    }
   ],
   "source": [
    "# for range of elements     suse the syntax\"ARANGE\"\n",
    "arr_arr=np.arange(10)\n",
    "print(arr_arr)"
   ]
  },
  {
   "cell_type": "code",
   "execution_count": 3,
   "id": "fb3ab364-78ba-4342-8da0-53a3318bb056",
   "metadata": {},
   "outputs": [
    {
     "name": "stdout",
     "output_type": "stream",
     "text": [
      "[[1. 0. 0.]\n",
      " [0. 1. 0.]\n",
      " [0. 0. 1.]]\n"
     ]
    }
   ],
   "source": [
    "# Diagonal elements      use the syntax \"EYE\"\n",
    "\n",
    "import numpy as np \n",
    "dig = np.eye (3)\n",
    "print(dig)"
   ]
  },
  {
   "cell_type": "code",
   "execution_count": 6,
   "id": "1622e26c-00e7-407b-b9d2-6ed2f1193744",
   "metadata": {},
   "outputs": [
    {
     "name": "stdout",
     "output_type": "stream",
     "text": [
      "[ 0.  5. 10. 15. 20.]\n"
     ]
    }
   ],
   "source": [
    "# soace liberaly in a specified internal \n",
    "import numpy as np \n",
    "arr_lin=np.linspace(0,20,num=5)\n",
    "print(arr_lin)"
   ]
  },
  {
   "cell_type": "code",
   "execution_count": null,
   "id": "1acd594a-6d21-4428-b85f-9fe2d8f40623",
   "metadata": {},
   "outputs": [],
   "source": []
  }
 ],
 "metadata": {
  "kernelspec": {
   "display_name": "Python 3 (ipykernel)",
   "language": "python",
   "name": "python3"
  },
  "language_info": {
   "codemirror_mode": {
    "name": "ipython",
    "version": 3
   },
   "file_extension": ".py",
   "mimetype": "text/x-python",
   "name": "python",
   "nbconvert_exporter": "python",
   "pygments_lexer": "ipython3",
   "version": "3.12.4"
  }
 },
 "nbformat": 4,
 "nbformat_minor": 5
}
