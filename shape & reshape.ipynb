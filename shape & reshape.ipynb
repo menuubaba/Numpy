{
 "cells": [
  {
   "cell_type": "markdown",
   "id": "21215059-1502-42e6-93c0-13e9362b4c3e",
   "metadata": {},
   "source": [
    "          # Shapes and reshaping array \n",
    " to defien which type of dimesions is the list  & retrieve the size"
   ]
  },
  {
   "cell_type": "code",
   "execution_count": 3,
   "id": "872fe2c1-0356-402c-95a2-c80e2cf66c84",
   "metadata": {},
   "outputs": [
    {
     "name": "stdout",
     "output_type": "stream",
     "text": [
      "[[2 2]\n",
      " [3 3]]\n",
      "\n",
      "(2, 2)\n"
     ]
    }
   ],
   "source": [
    "import numpy as np \n",
    "var=np.array([[2,2],[3,3]])\n",
    "print(var)\n",
    "print()   # to add a  empty line\n",
    "print(var.shape)  # to determine the row and columns "
   ]
  },
  {
   "cell_type": "code",
   "execution_count": 9,
   "id": "a7ec929f-c00f-4ea5-9f2e-6170eeb5f823",
   "metadata": {},
   "outputs": [
    {
     "name": "stdout",
     "output_type": "stream",
     "text": [
      "[[[[1 2]]]]\n",
      "4\n",
      "\n",
      "(1, 1, 1, 2)\n"
     ]
    }
   ],
   "source": [
    " # to  multi dimensions array use the function ndmin=(how many dimensio you want \n",
    " a=np.array([1,2],ndmin=4)\n",
    "print(a)\n",
    "print(a.ndim)\n",
    "print()\n",
    "print(a.shape)"
   ]
  },
  {
   "cell_type": "markdown",
   "id": "36066848-885e-4bfa-a131-dc5be2ee394d",
   "metadata": {},
   "source": [
    "                Reshaping (from multi dimension to 1 d)\n",
    "            "
   ]
  },
  {
   "cell_type": "code",
   "execution_count": 36,
   "id": "d11a1a6b-a700-40ca-b43f-67a0c4826382",
   "metadata": {},
   "outputs": [
    {
     "name": "stdout",
     "output_type": "stream",
     "text": [
      "1\n",
      "[[[ 1  2]\n",
      "  [ 3  4]\n",
      "  [ 5  6]]\n",
      "\n",
      " [[ 7  8]\n",
      "  [ 9 10]\n",
      "  [11 12]]]\n",
      "3\n"
     ]
    }
   ],
   "source": [
    "import numpy as np \n",
    "vst=np.array([1,2,3,4,5,6,7,8,9,10,11,12])\n",
    "print(vst.ndim)\n",
    "x= vst.reshape(2,3,2)\n",
    "print(x)\n",
    "print(x.ndim)"
   ]
  },
  {
   "cell_type": "code",
   "execution_count": null,
   "id": "731f0c97-629d-4128-8bcd-626ae19742e7",
   "metadata": {},
   "outputs": [],
   "source": []
  }
 ],
 "metadata": {
  "kernelspec": {
   "display_name": "Python 3 (ipykernel)",
   "language": "python",
   "name": "python3"
  },
  "language_info": {
   "codemirror_mode": {
    "name": "ipython",
    "version": 3
   },
   "file_extension": ".py",
   "mimetype": "text/x-python",
   "name": "python",
   "nbconvert_exporter": "python",
   "pygments_lexer": "ipython3",
   "version": "3.12.4"
  }
 },
 "nbformat": 4,
 "nbformat_minor": 5
}
