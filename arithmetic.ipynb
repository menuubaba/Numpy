{
 "cells": [
  {
   "cell_type": "code",
   "execution_count": 1,
   "id": "568cc684-7a93-43ab-a128-80608e5ae403",
   "metadata": {},
   "outputs": [],
   "source": [
    "             #ARITHMETIC OPERATION"
   ]
  },
  {
   "cell_type": "code",
   "execution_count": 4,
   "id": "a7e889d7-fe78-4e97-8af2-267c992074f2",
   "metadata": {},
   "outputs": [
    {
     "name": "stdout",
     "output_type": "stream",
     "text": [
      "[7 6 5 5]\n"
     ]
    }
   ],
   "source": [
    "import numpy as np\n",
    "a=[1,2,3,4]\n",
    "b=[6,4,2,1]\n",
    "c=np.add(a,b)\n",
    "print(c)"
   ]
  },
  {
   "cell_type": "code",
   "execution_count": 5,
   "id": "9af17299-d902-4738-8d26-49cb1c67e8d7",
   "metadata": {},
   "outputs": [
    {
     "name": "stdout",
     "output_type": "stream",
     "text": [
      "[-5 -2  1  3]\n"
     ]
    }
   ],
   "source": [
    "a=[1,2,3,4]\n",
    "b=[6,4,2,1]\n",
    "c=np.subtract(a,b)\n",
    "print(c)"
   ]
  },
  {
   "cell_type": "code",
   "execution_count": 7,
   "id": "373d1be3-947d-4e96-a700-5883f3c7fb01",
   "metadata": {},
   "outputs": [
    {
     "name": "stdout",
     "output_type": "stream",
     "text": [
      "[6 8 6 4]\n"
     ]
    }
   ],
   "source": [
    "a=[1,2,3,4]\n",
    "b=[6,4,2,1]\n",
    "c=np.multiply(a,b)\n",
    "print(c)"
   ]
  },
  {
   "cell_type": "code",
   "execution_count": 8,
   "id": "74f62ead-2086-4cd0-8c41-a1b9a15f24c3",
   "metadata": {},
   "outputs": [
    {
     "name": "stdout",
     "output_type": "stream",
     "text": [
      "[1 2 1 0]\n"
     ]
    }
   ],
   "source": [
    "a=[1,2,3,4]\n",
    "b=[6,4,2,1]\n",
    "c=np.mod(a,b)\n",
    "print(c)"
   ]
  },
  {
   "cell_type": "code",
   "execution_count": 9,
   "id": "aaf31841-da08-47f4-beb4-a8f104e36e58",
   "metadata": {},
   "outputs": [
    {
     "name": "stdout",
     "output_type": "stream",
     "text": [
      "[0.16666667 0.5        1.5        4.        ]\n"
     ]
    }
   ],
   "source": [
    "a=[1,2,3,4]\n",
    "b=[6,4,2,1]\n",
    "c=np.divide(a,b)\n",
    "print(c)"
   ]
  },
  {
   "cell_type": "code",
   "execution_count": 10,
   "id": "765e4511-d3ea-471c-b8fe-45ed838f3ebb",
   "metadata": {},
   "outputs": [
    {
     "name": "stdout",
     "output_type": "stream",
     "text": [
      "[ 1 16  9  4]\n"
     ]
    }
   ],
   "source": [
    "a=[1,2,3,4]\n",
    "b=[6,4,2,1]\n",
    "c=np.power(a,b)\n",
    "print(c)"
   ]
  },
  {
   "cell_type": "code",
   "execution_count": 12,
   "id": "6d0e9d6f-601e-47ad-b3ed-5fba87ed4a62",
   "metadata": {},
   "outputs": [
    {
     "name": "stdout",
     "output_type": "stream",
     "text": [
      "[1 0 0 0]\n"
     ]
    }
   ],
   "source": [
    "a=[1,2,3,4]\n",
    "b=[6,4,2,1]\n",
    "c=np.reciprocal(c)\n",
    "print(c)"
   ]
  },
  {
   "cell_type": "code",
   "execution_count": null,
   "id": "901a9462-47b1-4fd0-beeb-b84bd2ec5868",
   "metadata": {},
   "outputs": [],
   "source": []
  }
 ],
 "metadata": {
  "kernelspec": {
   "display_name": "Python 3 (ipykernel)",
   "language": "python",
   "name": "python3"
  },
  "language_info": {
   "codemirror_mode": {
    "name": "ipython",
    "version": 3
   },
   "file_extension": ".py",
   "mimetype": "text/x-python",
   "name": "python",
   "nbconvert_exporter": "python",
   "pygments_lexer": "ipython3",
   "version": "3.12.4"
  }
 },
 "nbformat": 4,
 "nbformat_minor": 5
}
